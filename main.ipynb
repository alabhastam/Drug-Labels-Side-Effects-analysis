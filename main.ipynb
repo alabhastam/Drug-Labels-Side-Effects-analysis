{
 "cells": [
  {
   "cell_type": "markdown",
   "id": "cf812bd8",
   "metadata": {
    "papermill": {
     "duration": 0.00268,
     "end_time": "2025-08-17T18:21:17.530639",
     "exception": false,
     "start_time": "2025-08-17T18:21:17.527959",
     "status": "completed"
    },
    "tags": []
   },
   "source": [
    "# loading data and insights "
   ]
  },
  {
   "cell_type": "code",
   "execution_count": 1,
   "id": "401b2bb7",
   "metadata": {
    "execution": {
     "iopub.execute_input": "2025-08-17T18:21:17.536316Z",
     "iopub.status.busy": "2025-08-17T18:21:17.535873Z",
     "iopub.status.idle": "2025-08-17T18:21:19.638315Z",
     "shell.execute_reply": "2025-08-17T18:21:19.637305Z"
    },
    "papermill": {
     "duration": 2.107279,
     "end_time": "2025-08-17T18:21:19.640087",
     "exception": false,
     "start_time": "2025-08-17T18:21:17.532808",
     "status": "completed"
    },
    "tags": []
   },
   "outputs": [],
   "source": [
    "import pandas as pd\n",
    "import numpy as np\n",
    "\n",
    "# Load dataset \n",
    "df = pd.read_csv(\"/kaggle/input/drug-labels-and-side-effects-dataset-1400-records/realistic_drug_labels_side_effects.csv\")"
   ]
  },
  {
   "cell_type": "code",
   "execution_count": 2,
   "id": "9e8ae8f1",
   "metadata": {
    "execution": {
     "iopub.execute_input": "2025-08-17T18:21:19.646183Z",
     "iopub.status.busy": "2025-08-17T18:21:19.645268Z",
     "iopub.status.idle": "2025-08-17T18:21:19.656248Z",
     "shell.execute_reply": "2025-08-17T18:21:19.655259Z"
    },
    "papermill": {
     "duration": 0.015604,
     "end_time": "2025-08-17T18:21:19.657921",
     "exception": false,
     "start_time": "2025-08-17T18:21:19.642317",
     "status": "completed"
    },
    "tags": []
   },
   "outputs": [
    {
     "name": "stdout",
     "output_type": "stream",
     "text": [
      "Shape: (1436, 15)\n",
      "\n",
      "Columns: ['drug_name', 'manufacturer', 'approval_year', 'drug_class', 'indications', 'side_effects', 'dosage_mg', 'administration_route', 'contraindications', 'warnings', 'price_usd', 'batch_number', 'expiry_date', 'side_effect_severity', 'approval_status']\n",
      "\n",
      "Missing values per column:\n",
      " drug_name               0\n",
      "manufacturer            0\n",
      "approval_year           0\n",
      "drug_class              0\n",
      "indications             0\n",
      "side_effects            0\n",
      "dosage_mg               0\n",
      "administration_route    0\n",
      "contraindications       0\n",
      "warnings                0\n",
      "price_usd               0\n",
      "batch_number            0\n",
      "expiry_date             0\n",
      "side_effect_severity    0\n",
      "approval_status         0\n",
      "dtype: int64\n"
     ]
    }
   ],
   "source": [
    "# Basic info\n",
    "print(\"Shape:\", df.shape)\n",
    "print(\"\\nColumns:\", df.columns.tolist())\n",
    "print(\"\\nMissing values per column:\\n\", df.isnull().sum())\n"
   ]
  },
  {
   "cell_type": "code",
   "execution_count": 3,
   "id": "fb7829bc",
   "metadata": {
    "execution": {
     "iopub.execute_input": "2025-08-17T18:21:19.663150Z",
     "iopub.status.busy": "2025-08-17T18:21:19.662820Z",
     "iopub.status.idle": "2025-08-17T18:21:19.706385Z",
     "shell.execute_reply": "2025-08-17T18:21:19.705531Z"
    },
    "papermill": {
     "duration": 0.047885,
     "end_time": "2025-08-17T18:21:19.707907",
     "exception": false,
     "start_time": "2025-08-17T18:21:19.660022",
     "status": "completed"
    },
    "tags": []
   },
   "outputs": [
    {
     "name": "stdout",
     "output_type": "stream",
     "text": [
      "\n",
      "Sample rows:\n"
     ]
    },
    {
     "data": {
      "text/html": [
       "<div>\n",
       "<style scoped>\n",
       "    .dataframe tbody tr th:only-of-type {\n",
       "        vertical-align: middle;\n",
       "    }\n",
       "\n",
       "    .dataframe tbody tr th {\n",
       "        vertical-align: top;\n",
       "    }\n",
       "\n",
       "    .dataframe thead th {\n",
       "        text-align: right;\n",
       "    }\n",
       "</style>\n",
       "<table border=\"1\" class=\"dataframe\">\n",
       "  <thead>\n",
       "    <tr style=\"text-align: right;\">\n",
       "      <th></th>\n",
       "      <th>drug_name</th>\n",
       "      <th>manufacturer</th>\n",
       "      <th>approval_year</th>\n",
       "      <th>drug_class</th>\n",
       "      <th>indications</th>\n",
       "      <th>side_effects</th>\n",
       "      <th>dosage_mg</th>\n",
       "      <th>administration_route</th>\n",
       "      <th>contraindications</th>\n",
       "      <th>warnings</th>\n",
       "      <th>price_usd</th>\n",
       "      <th>batch_number</th>\n",
       "      <th>expiry_date</th>\n",
       "      <th>side_effect_severity</th>\n",
       "      <th>approval_status</th>\n",
       "    </tr>\n",
       "  </thead>\n",
       "  <tbody>\n",
       "    <tr>\n",
       "      <th>594</th>\n",
       "      <td>Rivadipine26</td>\n",
       "      <td>Johnson &amp; Johnson</td>\n",
       "      <td>2017</td>\n",
       "      <td>Antiviral</td>\n",
       "      <td>Pain relief</td>\n",
       "      <td>Diarrhea, Dry mouth</td>\n",
       "      <td>580</td>\n",
       "      <td>Inhalation</td>\n",
       "      <td>Heart disease</td>\n",
       "      <td>Use with caution in elderly</td>\n",
       "      <td>84.03</td>\n",
       "      <td>XG772Dy</td>\n",
       "      <td>2026-06-14</td>\n",
       "      <td>Moderate</td>\n",
       "      <td>Pending</td>\n",
       "    </tr>\n",
       "    <tr>\n",
       "      <th>754</th>\n",
       "      <td>Cefdipine81</td>\n",
       "      <td>Pfizer Inc.</td>\n",
       "      <td>1999</td>\n",
       "      <td>Anti-inflammatory</td>\n",
       "      <td>Fever reduction</td>\n",
       "      <td>Constipation</td>\n",
       "      <td>950</td>\n",
       "      <td>Intravenous</td>\n",
       "      <td>Kidney impairment</td>\n",
       "      <td>Use with caution in elderly</td>\n",
       "      <td>486.71</td>\n",
       "      <td>vG592Kr</td>\n",
       "      <td>2027-06-15</td>\n",
       "      <td>Moderate</td>\n",
       "      <td>Approved</td>\n",
       "    </tr>\n",
       "    <tr>\n",
       "      <th>630</th>\n",
       "      <td>Viraprofen54</td>\n",
       "      <td>Roche Holding AG</td>\n",
       "      <td>2013</td>\n",
       "      <td>Antiviral</td>\n",
       "      <td>Pain relief</td>\n",
       "      <td>Insomnia</td>\n",
       "      <td>290</td>\n",
       "      <td>Intravenous</td>\n",
       "      <td>Bleeding disorders</td>\n",
       "      <td>Take with food</td>\n",
       "      <td>238.48</td>\n",
       "      <td>XG870Hl</td>\n",
       "      <td>2025-11-07</td>\n",
       "      <td>Mild</td>\n",
       "      <td>Rejected</td>\n",
       "    </tr>\n",
       "    <tr>\n",
       "      <th>1259</th>\n",
       "      <td>Virazole38</td>\n",
       "      <td>GlaxoSmithKline</td>\n",
       "      <td>2002</td>\n",
       "      <td>Anti-inflammatory</td>\n",
       "      <td>Pain relief</td>\n",
       "      <td>Nausea, Blurred vision, Rash</td>\n",
       "      <td>970</td>\n",
       "      <td>Topical</td>\n",
       "      <td>Diabetes</td>\n",
       "      <td>Take with food</td>\n",
       "      <td>58.89</td>\n",
       "      <td>jz375MU</td>\n",
       "      <td>2028-07-20</td>\n",
       "      <td>Moderate</td>\n",
       "      <td>Approved</td>\n",
       "    </tr>\n",
       "    <tr>\n",
       "      <th>903</th>\n",
       "      <td>Zylodipine39</td>\n",
       "      <td>Moderna Therapeutics</td>\n",
       "      <td>1992</td>\n",
       "      <td>Antihistamine</td>\n",
       "      <td>Depression treatment</td>\n",
       "      <td>Constipation, Diarrhea</td>\n",
       "      <td>140</td>\n",
       "      <td>Inhalation</td>\n",
       "      <td>Allergic reaction</td>\n",
       "      <td>Do not discontinue abruptly</td>\n",
       "      <td>290.37</td>\n",
       "      <td>po625ZS</td>\n",
       "      <td>2025-11-03</td>\n",
       "      <td>Mild</td>\n",
       "      <td>Rejected</td>\n",
       "    </tr>\n",
       "  </tbody>\n",
       "</table>\n",
       "</div>"
      ],
      "text/plain": [
       "         drug_name          manufacturer  approval_year         drug_class  \\\n",
       "594   Rivadipine26     Johnson & Johnson           2017          Antiviral   \n",
       "754    Cefdipine81           Pfizer Inc.           1999  Anti-inflammatory   \n",
       "630   Viraprofen54      Roche Holding AG           2013          Antiviral   \n",
       "1259    Virazole38       GlaxoSmithKline           2002  Anti-inflammatory   \n",
       "903   Zylodipine39  Moderna Therapeutics           1992      Antihistamine   \n",
       "\n",
       "               indications                  side_effects  dosage_mg  \\\n",
       "594            Pain relief           Diarrhea, Dry mouth        580   \n",
       "754        Fever reduction                  Constipation        950   \n",
       "630            Pain relief                      Insomnia        290   \n",
       "1259           Pain relief  Nausea, Blurred vision, Rash        970   \n",
       "903   Depression treatment        Constipation, Diarrhea        140   \n",
       "\n",
       "     administration_route   contraindications                     warnings  \\\n",
       "594            Inhalation       Heart disease  Use with caution in elderly   \n",
       "754           Intravenous   Kidney impairment  Use with caution in elderly   \n",
       "630           Intravenous  Bleeding disorders               Take with food   \n",
       "1259              Topical            Diabetes               Take with food   \n",
       "903            Inhalation   Allergic reaction  Do not discontinue abruptly   \n",
       "\n",
       "      price_usd batch_number expiry_date side_effect_severity approval_status  \n",
       "594       84.03      XG772Dy  2026-06-14             Moderate         Pending  \n",
       "754      486.71      vG592Kr  2027-06-15             Moderate        Approved  \n",
       "630      238.48      XG870Hl  2025-11-07                 Mild        Rejected  \n",
       "1259      58.89      jz375MU  2028-07-20             Moderate        Approved  \n",
       "903      290.37      po625ZS  2025-11-03                 Mild        Rejected  "
      ]
     },
     "metadata": {},
     "output_type": "display_data"
    }
   ],
   "source": [
    "# Sample records\n",
    "print(\"\\nSample rows:\")\n",
    "display(df.sample(5, random_state=42))"
   ]
  },
  {
   "cell_type": "code",
   "execution_count": 4,
   "id": "fd5ed292",
   "metadata": {
    "execution": {
     "iopub.execute_input": "2025-08-17T18:21:19.714015Z",
     "iopub.status.busy": "2025-08-17T18:21:19.713721Z",
     "iopub.status.idle": "2025-08-17T18:21:19.724790Z",
     "shell.execute_reply": "2025-08-17T18:21:19.723822Z"
    },
    "papermill": {
     "duration": 0.01589,
     "end_time": "2025-08-17T18:21:19.726257",
     "exception": false,
     "start_time": "2025-08-17T18:21:19.710367",
     "status": "completed"
    },
    "tags": []
   },
   "outputs": [
    {
     "name": "stdout",
     "output_type": "stream",
     "text": [
      "\n",
      "Average indications text length: 17.81\n",
      "Average side effects text length: 18.76\n"
     ]
    }
   ],
   "source": [
    "# Quick text stats — length of indications & side effects text\n",
    "df['indications_length'] = df['indications'].astype(str).apply(len)\n",
    "df['effect_length'] = df['side_effects'].astype(str).apply(len)\n",
    "\n",
    "print(\"\\nAverage indications text length:\", round(df['indications_length'].mean(), 2))\n",
    "print(\"Average side effects text length:\", round(df['effect_length'].mean(), 2))\n"
   ]
  },
  {
   "cell_type": "code",
   "execution_count": 5,
   "id": "1193a239",
   "metadata": {
    "execution": {
     "iopub.execute_input": "2025-08-17T18:21:19.732524Z",
     "iopub.status.busy": "2025-08-17T18:21:19.732193Z",
     "iopub.status.idle": "2025-08-17T18:21:19.740490Z",
     "shell.execute_reply": "2025-08-17T18:21:19.739349Z"
    },
    "papermill": {
     "duration": 0.013013,
     "end_time": "2025-08-17T18:21:19.741864",
     "exception": false,
     "start_time": "2025-08-17T18:21:19.728851",
     "status": "completed"
    },
    "tags": []
   },
   "outputs": [
    {
     "name": "stdout",
     "output_type": "stream",
     "text": [
      "\n",
      "Unique drugs count: 1337\n",
      "Unique side effects count (raw text): 435\n"
     ]
    }
   ],
   "source": [
    "# Quick look at unique counts\n",
    "print(\"\\nUnique drugs count:\", df['drug_name'].nunique())\n",
    "print(\"Unique side effects count (raw text):\", df['side_effects'].nunique())"
   ]
  }
 ],
 "metadata": {
  "kaggle": {
   "accelerator": "none",
   "dataSources": [
    {
     "datasetId": 7993102,
     "sourceId": 12648535,
     "sourceType": "datasetVersion"
    }
   ],
   "dockerImageVersionId": 31089,
   "isGpuEnabled": false,
   "isInternetEnabled": true,
   "language": "python",
   "sourceType": "notebook"
  },
  "kernelspec": {
   "display_name": "Python 3",
   "language": "python",
   "name": "python3"
  },
  "language_info": {
   "codemirror_mode": {
    "name": "ipython",
    "version": 3
   },
   "file_extension": ".py",
   "mimetype": "text/x-python",
   "name": "python",
   "nbconvert_exporter": "python",
   "pygments_lexer": "ipython3",
   "version": "3.11.13"
  },
  "papermill": {
   "default_parameters": {},
   "duration": 8.161039,
   "end_time": "2025-08-17T18:21:20.364602",
   "environment_variables": {},
   "exception": null,
   "input_path": "__notebook__.ipynb",
   "output_path": "__notebook__.ipynb",
   "parameters": {},
   "start_time": "2025-08-17T18:21:12.203563",
   "version": "2.6.0"
  }
 },
 "nbformat": 4,
 "nbformat_minor": 5
}
